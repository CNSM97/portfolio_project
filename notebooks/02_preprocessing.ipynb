{
 "cells": [
  {
   "cell_type": "markdown",
   "id": "72bfcd4c",
   "metadata": {},
   "source": [
    "# Data Preprocessing\n",
    "\n",
    "The goal of this notebook is to prepare both the **historical dataset (2005–2023)** and the **2024 snapshot dataset** for further analysis and modeling.  \n",
    "While the exploratory data analysis (EDA) provided first descriptive insights, this stage ensures data consistency, handles structural issues, and creates a clean foundation for answering our research questions.  \n",
    "\n",
    "Key preprocessing objectives:\n",
    "- Address missingness where relevant (e.g., for regression modeling)\n",
    "- Harmonize country names and ensure consistent regional mapping across datasets  \n",
    "- Verify variable selection and clarify which features will be used for historical vs. 2024 analyses    \n"
   ]
  },
  {
   "cell_type": "markdown",
   "id": "dce2c999",
   "metadata": {},
   "source": [
    "## 1. Load Datasets"
   ]
  },
  {
   "cell_type": "code",
   "execution_count": 1,
   "id": "b0271118",
   "metadata": {},
   "outputs": [],
   "source": [
    "import seaborn as sns\n",
    "import matplotlib.pyplot as plt\n",
    "import pandas as pd\n",
    "import numpy as np"
   ]
  },
  {
   "cell_type": "code",
   "execution_count": 2,
   "id": "d8075b66",
   "metadata": {},
   "outputs": [
    {
     "name": "stdout",
     "output_type": "stream",
     "text": [
      "df_2024 shape: (143, 12)\n",
      "df_all_years shape: (2363, 11)\n"
     ]
    }
   ],
   "source": [
    "path_2024 = \"../data/raw/world-happiness-report-2024-yearly-updated/World-happiness-report-2024.csv\"\n",
    "path_all_years = \"../data/raw/world-happiness-report-2024-yearly-updated/World-happiness-report-updated_2024.csv\"\n",
    "\n",
    "# Load datasets\n",
    "df_2024 = pd.read_csv(path_2024) \n",
    "df_all_years = pd.read_csv(path_all_years, encoding='latin1')\n",
    "\n",
    "# Quick sanity check\n",
    "print('df_2024 shape:', df_2024.shape)\n",
    "print('df_all_years shape:', df_all_years.shape)"
   ]
  },
  {
   "cell_type": "markdown",
   "id": "f66bad68",
   "metadata": {},
   "source": [
    "## 2. Handling Missing Values & Data Cleaning  \n",
    "\n",
    "As established in the EDA, missingness is **limited but patterned**:  \n",
    "- 2005 has very few observations → excluded from historical analysis.  \n",
    "- Three countries in the 2024 dataset (Bahrain, Tajikistan, Palestine) have missing predictors but valid ladder scores → retained for descriptive analyses, excluded from regression modeling.  \n",
    "\n",
    "No further imputation is required, as coverage is high and missingness is not random.  \n",
    "We now apply these cleaning steps directly to the datasets.\n"
   ]
  },
  {
   "cell_type": "code",
   "execution_count": 3,
   "id": "50d8d0cf",
   "metadata": {},
   "outputs": [
    {
     "name": "stdout",
     "output_type": "stream",
     "text": [
      "df_all_years_clean shape (2005 removed): (2336, 11)\n"
     ]
    }
   ],
   "source": [
    "# Dropping 2005 data due to low coverage\n",
    "df_all_years_clean = df_all_years[df_all_years['year'] != 2005].copy()\n",
    "\n",
    "# Quick sanity check\n",
    "print('df_all_years_clean shape (2005 removed):', df_all_years_clean.shape) # 27 records removed as expected"
   ]
  },
  {
   "cell_type": "code",
   "execution_count": 4,
   "id": "08114fa3",
   "metadata": {},
   "outputs": [
    {
     "name": "stdout",
     "output_type": "stream",
     "text": [
      "df_2024_model shape (NaN values removed): (140, 12)\n"
     ]
    }
   ],
   "source": [
    "# Dropping missing values in 2024 for regression modeling\n",
    "df_2024_model = df_2024.dropna(axis=0, subset=['Log GDP per capita']) \n",
    "\n",
    "# Quick sanity check\n",
    "print('df_2024_model shape (NaN values removed):', df_2024_model.shape) # 3 rows dropped as expected"
   ]
  },
  {
   "cell_type": "markdown",
   "id": "abd61a9f",
   "metadata": {},
   "source": [
    "## 3. Column Harmonization  \n",
    "\n",
    "To ensure consistency between the historical dataset and the 2024 dataset, we standardize column names.  \n",
    "This step prevents mismatches during analysis and guarantees that identical variables carry the same labels across datasets.  \n"
   ]
  },
  {
   "cell_type": "code",
   "execution_count": 5,
   "id": "6fcb9245",
   "metadata": {},
   "outputs": [
    {
     "name": "stdout",
     "output_type": "stream",
     "text": [
      "Historical dataset columns: ['Country name', 'year', 'Ladder score', 'Log GDP per capita', 'Social support', 'Healthy life expectancy', 'Freedom to make life choices', 'Generosity', 'Perceptions of corruption', 'Positive affect', 'Negative affect']\n",
      "2024 dataset columns: ['Country name', 'Regional indicator', 'Ladder score', 'upperwhisker', 'lowerwhisker', 'Log GDP per capita', 'Social support', 'Healthy life expectancy', 'Freedom to make life choices', 'Generosity', 'Perceptions of corruption', 'Dystopia + residual']\n"
     ]
    }
   ],
   "source": [
    "# Rename columns in historical dataset to align with 2024 dataset\n",
    "df_all_years_clean = df_all_years_clean.rename(columns={\n",
    "    'Life Ladder': 'Ladder score',\n",
    "    'Healthy life expectancy at birth': 'Healthy life expectancy',\n",
    "})\n",
    "\n",
    "# Quick check\n",
    "print(\"Historical dataset columns:\", df_all_years_clean.columns.tolist())\n",
    "print(\"2024 dataset columns:\", df_2024.columns.tolist())\n"
   ]
  },
  {
   "cell_type": "markdown",
   "id": "e12d3452",
   "metadata": {},
   "source": [
    "## 4. Region Mapping\n",
    "\n",
    "In order to also do regional analyses in the historic dataset, we map the Regional Indicator from the 2024 datset with the historic data based on country names."
   ]
  },
  {
   "cell_type": "code",
   "execution_count": 6,
   "id": "f594b265",
   "metadata": {},
   "outputs": [
    {
     "name": "stdout",
     "output_type": "stream",
     "text": [
      "Unique countries: hist= 165  2024= 143\n",
      "In historical only: ['Angola', 'Belarus', 'Belize', 'Bhutan', 'Burundi', 'Central African Republic', 'Cuba', 'Djibouti', 'Guyana', 'Haiti', 'Maldives', 'Oman', 'Qatar', 'Rwanda', 'Somalia', 'Somaliland region', 'South Sudan', 'Sudan', 'Suriname', 'Syria', 'Trinidad and Tobago', 'Turkmenistan', 'Türkiye']\n",
      "In 2024 only: ['Turkiye']\n"
     ]
    }
   ],
   "source": [
    "# Match country names between datasets (for merging Regional indicator column later)\n",
    "\n",
    "# Count unique countries in both datasets and identify non-matching entries\n",
    "set_hist = set(df_all_years_clean['Country name'])\n",
    "set_2024 = set(df_2024['Country name'])\n",
    "\n",
    "len_hist, len_2024 = len(set_hist), len(set_2024)\n",
    "print('Unique countries: hist=', len_hist, ' 2024=', len_2024)\n",
    "\n",
    "only_in_hist = sorted(list(set_hist - set_2024))\n",
    "only_in_2024 = sorted(list(set_2024 - set_hist))\n",
    "\n",
    "print('In historical only:', only_in_hist)\n",
    "print('In 2024 only:', only_in_2024)\n"
   ]
  },
  {
   "cell_type": "code",
   "execution_count": 7,
   "id": "6caab439",
   "metadata": {},
   "outputs": [
    {
     "name": "stdout",
     "output_type": "stream",
     "text": [
      "Countries without mapped region: ['Angola' 'Belarus' 'Belize' 'Bhutan' 'Burundi' 'Central African Republic'\n",
      " 'Cuba' 'Djibouti' 'Guyana' 'Haiti' 'Maldives' 'Oman' 'Qatar' 'Rwanda'\n",
      " 'Somalia' 'Somaliland region' 'South Sudan' 'Sudan' 'Suriname' 'Syria'\n",
      " 'Trinidad and Tobago' 'Turkmenistan']\n"
     ]
    },
    {
     "data": {
      "text/plain": [
       "Country name                      0\n",
       "year                              0\n",
       "Ladder score                      0\n",
       "Log GDP per capita               19\n",
       "Social support                    9\n",
       "Healthy life expectancy          59\n",
       "Freedom to make life choices     30\n",
       "Generosity                       44\n",
       "Perceptions of corruption       106\n",
       "Positive affect                  17\n",
       "Negative affect                  11\n",
       "Regional indicator                0\n",
       "dtype: int64"
      ]
     },
     "metadata": {},
     "output_type": "display_data"
    }
   ],
   "source": [
    "# Harmonize single known mismatch in country naming (2024 uses \"Turkiye\" instead of \"Türkiye\")\n",
    "df_all_years_clean['Country name'] = df_all_years_clean['Country name'].replace({'Türkiye': 'Turkiye'})\n",
    "\n",
    "# Region mapping from 2024 dataset to historical dataset\n",
    "region_map = df_2024.set_index('Country name')['Regional indicator'].to_dict()\n",
    "df_all_years_clean['Regional indicator'] = df_all_years_clean['Country name'].map(region_map)\n",
    "\n",
    "# Unmatched countries\n",
    "missing_regions = df_all_years_clean[df_all_years_clean['Regional indicator'].isnull()]['Country name'].unique()\n",
    "print(\"Countries without mapped region:\", missing_regions)\n",
    "\n",
    "# Turkiye is now matched correctly. There are 22 countries without region mapping, due to being absent in 2024 data. \n",
    "\n",
    "# Drop rows without region mapping for regional analyses\n",
    "df_all_years_region = df_all_years_clean.dropna(subset=['Regional indicator']).copy()\n",
    "\n",
    "# Quick sanity check\n",
    "display(df_all_years_region.isnull().sum())  # Shows 0 NaN in 'Regional indicator' column as expected"
   ]
  },
  {
   "cell_type": "markdown",
   "id": "92477779",
   "metadata": {},
   "source": [
    "For the historical dataset, we mapped the **Regional indicator** from the 2024 dataset to enable consistent regional trend analyses.  \n",
    "\n",
    "- 22 countries could not be matched because they are absent from the 2024 dataset and therefore lack a regional assignment.  \n",
    "- Since our research questions focus on **regional trends** (RQ1 & RQ2), these countries are excluded from further analysis.  \n",
    "- This ensures a consistent country–region mapping across historical and 2024 datasets, even though it reduces coverage slightly.  \n",
    "\n",
    "The cleaned dataset is therefore restricted to countries with valid regional mapping."
   ]
  },
  {
   "cell_type": "markdown",
   "id": "1ccd3b46",
   "metadata": {},
   "source": [
    "## 4. Save Processed Datasets\n",
    "\n",
    "We now save the cleaned and harmonized datasets to the `data/processed/` folder.  \n",
    "These files will be the input for subsequent analysis and modeling.\n"
   ]
  },
  {
   "cell_type": "code",
   "execution_count": 8,
   "id": "75912f12",
   "metadata": {},
   "outputs": [
    {
     "name": "stdout",
     "output_type": "stream",
     "text": [
      "Processed datasets successfully saved.\n"
     ]
    }
   ],
   "source": [
    "# Historical datasets\n",
    "df_all_years_clean.to_csv(\"../data/processed/world-happiness-historical-all.csv\", index=False)\n",
    "df_all_years_region.to_csv(\"../data/processed/world-happiness-historical-region.csv\", index=False)\n",
    "\n",
    "# 2024 datasets\n",
    "df_2024.to_csv(\"../data/processed/world-happiness-2024.csv\", index=False)\n",
    "df_2024_model.to_csv(\"../data/processed/world-happiness-2024-model.csv\", index=False)\n",
    "\n",
    "print(\"Processed datasets successfully saved.\")\n"
   ]
  },
  {
   "cell_type": "markdown",
   "id": "0792e0fe",
   "metadata": {},
   "source": [
    "We store multiple processed versions to allow flexibility in later analyses:\n",
    "- **world-happiness-historical-all.csv** → full historical dataset (2006–2023, no 2005, no region drop)  \n",
    "- **world-happiness-historical-region.csv** → historical dataset restricted to countries with valid regional mapping  \n",
    "- **world-happiness-2024.csv** → complete 2024 dataset  \n",
    "- **world-happiness-2024-model.csv** → 2024 dataset cleaned for regression (3 rows dropped with missing predictors)  \n"
   ]
  }
 ],
 "metadata": {
  "kernelspec": {
   "display_name": "dpp",
   "language": "python",
   "name": "python3"
  },
  "language_info": {
   "codemirror_mode": {
    "name": "ipython",
    "version": 3
   },
   "file_extension": ".py",
   "mimetype": "text/x-python",
   "name": "python",
   "nbconvert_exporter": "python",
   "pygments_lexer": "ipython3",
   "version": "3.12.7"
  }
 },
 "nbformat": 4,
 "nbformat_minor": 5
}
